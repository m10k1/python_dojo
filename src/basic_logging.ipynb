{
 "cells": [
  {
   "cell_type": "markdown",
   "metadata": {},
   "source": []
  },
  {
   "cell_type": "markdown",
   "metadata": {},
   "source": [
    "print文を使ったデバッグのメリット:\n",
    "1. 簡単に実装できる: print文はどんなプログラミング言語にも存在し、特別なツールやライブラリを必要とせずにデバッグ情報を出力できます。\n",
    "2. 即時のフィードバック: コードにprint文を挿入することで、プログラムの実行中に変数の値やプログラムの状態をリアルタイムで確認できます。\n",
    "3. 複雑なツールが不要: デバッグのために複雑なIDEやデバッガを設定する必要がなく、テキストエディタとコマンドラインだけでデバッグが可能です。\n",
    "\n",
    "print文を使ったデバッグのデメリット:\n",
    "1. コードの汚染: デバッグが終わった後、print文を削除するのを忘れると、コードが読みにくくなり、メンテナンスが困難になります。\n",
    "2. パフォーマンスの低下: 大量のprint文はプログラムの実行速度を低下させる可能性があります。特にループ内でprint文を使用すると、その影響が顕著になります。\n",
    "3. デバッグ情報の管理が難しい: 大規模なアプリケーションでは、print文で出力される情報が多すぎて、重要なデバッグ情報を見逃す可能性があります。\n"
   ]
  },
  {
   "cell_type": "markdown",
   "metadata": {},
   "source": [
    "## logging モジュールについて\n",
    "\n",
    "PythonにはロギングのためのloggingモジュールはPythonの標準ライブラリに用意されています。\n",
    "\n",
    "logging モジュールの構成要素は以下の4つ\n",
    "* logger\n",
    "* handler\n",
    "* Formatter\n",
    "* Filter\n",
    "\n",
    "### Logger\n",
    "ロガーはログを出力のためのインタフェースとして機能するモジュールになります。複数のロガーを作成して、それぞれ独立したログ出力を行うことも可能です。\n",
    "ログにはログレベルを設定することができます。\n",
    "\n",
    "### handler\n",
    "\n",
    "ハンドラーはログから受け取ったログレコードを処理して、出力先を決定します。StreamHandlerはコンソールに出力、FileHandlerはファイルに出力を行います。\n",
    "\n",
    "### Formatter\n",
    "フォーマッタはログレコードの出力形式を設定します。 レベル名、タイムスタンプ、モジュール名などを自由に組み合わせて出力することができます。\n",
    "\n",
    "### Filter\n",
    "フィルターを使うと、ロガーやハンドラー単位でのログ出力するかどうかを制御できます。\n",
    "\n",
    "loggerモジュールはimport直後から利用することが可能です。デフォルト値が設定されているので使用する状況に合わせて設定値を変えてやる必要があります。\n",
    "デフォルトではルートロガーのみ有効でログレベルがWARNIGに設定されています。ハンドラはStreamHandlerが設定されており、コンソールに出力が行われるようになっています。フォーマッタは設定されておらず、ログに渡した内容がそのまま出力されます\n",
    "\n",
    "つまり、デフォルトままではprint文とそう変わらない状態なのでカスタマイズしないと有難みを感じづらいわけです。\n",
    "\n",
    "\n",
    "## ログレベル\n",
    "\n",
    "ログレベルとは、ログメッセージの重要度を示す指標です。loggingモジュールでは次の５つの標準レベルが定義されています\n",
    "\n",
    "### DEBUG\n",
    "もっとも詳細な情報が出力されるレベルです。デバッグ用の変数の値を確認したり、プログラムの流れを追跡する場合に使用します。\n",
    "\n",
    "### INFO\n",
    "通常の情報メッセージを出力するレベルです。アプリケーションの全体的な進捗状況や、処理が正常に完了したことを示す情報などが該当します。\n",
    "\n",
    "### WARNING\n",
    "警告メッセージが出力されるレベルです。深刻なエラーではないもののユーザーに注意を促す内容や、予期しない状態が発生したときに使用します。\n",
    "\n",
    "### ERROR\n",
    "エラーメッセージが出力されるレベルです。プログラムの実行に支障をきたすような誤った状態が発生した場合に使用します。\n",
    "\n",
    "### CRITICAL\n",
    "深刻な障害が発生したときに出力されるレベルです。アプリケーションの動作が困難な状況になったことを示します。\n",
    "\n",
    "ログレベルは\n",
    "DEBUG 　＜　INFO　＜　WARNING　＜ ERROR　＜ CRITICAL\n",
    "の順で重要になります。\n",
    "\n",
    "\n",
    "\n"
   ]
  },
  {
   "cell_type": "markdown",
   "metadata": {},
   "source": [
    "まずはロガーを使ってみましょう\n",
    "\n",
    "最初に行うべきことは、ロガーを作成することです"
   ]
  },
  {
   "cell_type": "code",
   "execution_count": 17,
   "metadata": {},
   "outputs": [
    {
     "name": "stderr",
     "output_type": "stream",
     "text": [
      "DEBUG: Hello,World\n"
     ]
    }
   ],
   "source": [
    "import logging\n",
    "\n",
    "# ルートのロガーを取得\n",
    "# getLoggerで名前を指定しない\n",
    "root_logger = logging.getLogger()\n",
    "\n",
    "# 名前付きのロガーを取得\n",
    "logger = logging.getLogger(__name__)\n",
    "\n",
    "logger.debug(\"DEBUG: Hello,World\") #標準のログレベルがWARNINGなので出力されない\n",
    "logger.warning(\"DEBUG: Hello,World\")\n"
   ]
  },
  {
   "cell_type": "markdown",
   "metadata": {},
   "source": [
    "ロガーには親子関係があります。\n",
    "ロガーの設定は親から子へ引き継がれるので効率的なロガー管理が可能です\n"
   ]
  },
  {
   "cell_type": "code",
   "execution_count": 18,
   "metadata": {},
   "outputs": [
    {
     "name": "stdout",
     "output_type": "stream",
     "text": [
      "0\n"
     ]
    }
   ],
   "source": [
    "# 親ロガーの作成\n",
    "parent = logging.getLogger('parent')\n",
    "parent.setLevel(logging.INFO)\n",
    "\n",
    "# 子ロガーの作成\n",
    "child = logging.getLogger('parent.child')\n",
    "\n",
    "print(child.level)"
   ]
  },
  {
   "cell_type": "code",
   "execution_count": null,
   "metadata": {},
   "outputs": [],
   "source": []
  },
  {
   "cell_type": "markdown",
   "metadata": {},
   "source": []
  },
  {
   "cell_type": "markdown",
   "metadata": {},
   "source": [
    "\n",
    "\n"
   ]
  }
 ],
 "metadata": {
  "kernelspec": {
   "display_name": "venv",
   "language": "python",
   "name": "python3"
  },
  "language_info": {
   "codemirror_mode": {
    "name": "ipython",
    "version": 3
   },
   "file_extension": ".py",
   "mimetype": "text/x-python",
   "name": "python",
   "nbconvert_exporter": "python",
   "pygments_lexer": "ipython3",
   "version": "3.10.11"
  }
 },
 "nbformat": 4,
 "nbformat_minor": 2
}
